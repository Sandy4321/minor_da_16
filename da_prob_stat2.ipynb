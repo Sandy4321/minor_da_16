{
 "cells": [
  {
   "cell_type": "markdown",
   "metadata": {},
   "source": [
    "# Вероятность и Мат. Статистика ч.2\n",
    "Шестаков А.В. Майнор по анализу данных - 16/02/2016"
   ]
  },
  {
   "cell_type": "code",
   "execution_count": null,
   "metadata": {
    "collapsed": true
   },
   "outputs": [],
   "source": [
    "import numpy as np\n",
    "import scipy.stats as stats\n",
    "import matplotlib.pyplot as plt \n",
    "\n",
    "plt.style.use('ggplot')\n",
    "\n",
    "font = {'family': 'Verdana',\n",
    "        'weight': 'normal'}\n",
    "plt.rc('font', **font)\n",
    "\n",
    "%matplotlib inline"
   ]
  },
  {
   "cell_type": "markdown",
   "metadata": {},
   "source": [
    "## Распределения случайных величин"
   ]
  },
  {
   "cell_type": "markdown",
   "metadata": {},
   "source": [
    "На лекциях были рассмотрены распределения дискретных и непрерывных случайных величин.<br/> Были изучены соотношения, которые устанавливают связь значений случайных величин и соответствующие им вероятноти -  **функции распределения** (cumulative density function/probability mass function) и **плотности распределения** (probability density function).\n",
    "\n",
    "Посмотрим, как можно обращатся к законам распределения в Python"
   ]
  },
  {
   "cell_type": "markdown",
   "metadata": {},
   "source": [
    "### Распределение Бернулли"
   ]
  },
  {
   "cell_type": "markdown",
   "metadata": {},
   "source": [
    "Случайная величина принимает 2 возможных значения (успех или провал, мужской или женский пол и тп)"
   ]
  },
  {
   "cell_type": "markdown",
   "metadata": {},
   "source": [
    "$$ F(X=x)=p^x(1-p)^{1-x}, \\quad x = \\{0, 1\\}$$"
   ]
  },
  {
   "cell_type": "code",
   "execution_count": null,
   "metadata": {
    "collapsed": false
   },
   "outputs": [],
   "source": [
    "n = 1\n",
    "p = 0.8\n",
    "\n",
    "fig, ax = plt.subplots(1,2)\n",
    "fig.set_size_inches(14,6)\n",
    "x = np.arange(0,n+1)\n",
    "\n",
    "prob_mass = stats.bernoulli.pmf(x, p)\n",
    "prob = stats.bernoulli.cdf(x, p)\n",
    "ax[0].bar(x,prob_mass)\n",
    "ax[1].plot(x, prob)\n",
    "\n",
    "ax[0].set_title(u'Закон распределения')\n",
    "ax[1].set_title(u'Функция распределения')"
   ]
  },
  {
   "cell_type": "markdown",
   "metadata": {},
   "source": [
    "### Биномиальный закон распределения"
   ]
  },
  {
   "cell_type": "markdown",
   "metadata": {},
   "source": [
    "Вероятность наступления числа $X=m$ события в $n$ независимых испытаниях, в каждом из которых оно может наступить с вероятностью $p$:\n",
    "$$ F(X=m|p,n)=C_n^m p^m (1-p)^{n-m} $$"
   ]
  },
  {
   "cell_type": "code",
   "execution_count": null,
   "metadata": {
    "collapsed": false
   },
   "outputs": [],
   "source": [
    "n = 10\n",
    "p = 0.6\n",
    "\n",
    "fig, ax = plt.subplots(1,2)\n",
    "fig.set_size_inches(14,6)\n",
    "x = np.arange(0, n+1)\n",
    "prob_mass = stats.binom.pmf(x, n, p)\n",
    "prob = stats.binom.cdf(x, n, p)\n",
    "ax[0].bar(x,prob_mass)\n",
    "ax[1].plot(x, prob)\n",
    "\n",
    "ax[0].set_title(u'Закон распределения')\n",
    "ax[1].set_title(u'Функция распределения')"
   ]
  },
  {
   "cell_type": "markdown",
   "metadata": {},
   "source": [
    "### Распределение Пуассона"
   ]
  },
  {
   "cell_type": "markdown",
   "metadata": {},
   "source": [
    "$$ F(X=m|\\lambda)=\\lambda^m \\frac{\\exp(-\\lambda)}{m!} $$"
   ]
  },
  {
   "cell_type": "markdown",
   "metadata": {},
   "source": [
    "Является предельным приближением к биномиальному распределению!"
   ]
  },
  {
   "cell_type": "code",
   "execution_count": null,
   "metadata": {
    "collapsed": false
   },
   "outputs": [],
   "source": [
    "n = 10\n",
    "p = 0.6\n",
    "\n",
    "lamb = n*p\n",
    "\n",
    "fig, ax = plt.subplots(1,2)\n",
    "fig.set_size_inches(14,6)\n",
    "x = np.arange(0, 2*n)\n",
    "prob_dens = stats.poisson.pmf(x, lamb)\n",
    "prob = stats.poisson.cdf(x, lamb)\n",
    "ax[0].bar(x, prob_dens)\n",
    "ax[1].plot(x, prob)\n",
    "\n",
    "ax[0].set_title(u'Закон распределения')\n",
    "ax[1].set_title(u'Функция распределения')"
   ]
  },
  {
   "cell_type": "markdown",
   "metadata": {},
   "source": [
    "### Нормальное распределение"
   ]
  },
  {
   "cell_type": "markdown",
   "metadata": {},
   "source": [
    "Самое известное распределение - нормальное распрежедение. Параметры: $\\mu$ - среднее значение, $\\sigma$ - дисперсия"
   ]
  },
  {
   "cell_type": "markdown",
   "metadata": {},
   "source": [
    "$$ f_X(x | \\mu, \\sigma) = \\frac{1}{\\sigma \\sqrt{2 \\pi}} \\exp{-\\frac{(x-\\mu)^2}{2\\sigma^2}}$$"
   ]
  },
  {
   "cell_type": "code",
   "execution_count": null,
   "metadata": {
    "collapsed": false
   },
   "outputs": [],
   "source": [
    "mu = 15\n",
    "sig = 3\n",
    "\n",
    "fig, ax = plt.subplots(1,2)\n",
    "fig.set_size_inches(14,6)\n",
    "x = np.arange(0, 2*mu)\n",
    "prob_dens = stats.norm.pdf(x, mu, sig)\n",
    "prob = stats.norm.cdf(x, mu, sig)\n",
    "ax[0].bar(x,prob_dens)\n",
    "ax[1].plot(x, prob)\n",
    "\n",
    "ax[0].set_title(u'Плотность распределения')\n",
    "ax[1].set_title(u'Функция распределения')"
   ]
  },
  {
   "cell_type": "markdown",
   "metadata": {},
   "source": [
    "### Степенной закон"
   ]
  },
  {
   "cell_type": "markdown",
   "metadata": {},
   "source": [
    "Известно так же как закон Парето. "
   ]
  },
  {
   "cell_type": "markdown",
   "metadata": {},
   "source": [
    "$$ f_X(x|\\alpha) = \\alpha x^{-\\alpha - 1}, x\\geq1, \\quad \\alpha>0 $$"
   ]
  },
  {
   "cell_type": "code",
   "execution_count": null,
   "metadata": {
    "collapsed": false
   },
   "outputs": [],
   "source": [
    "alpha = 2.1\n",
    "\n",
    "\n",
    "fig, ax = plt.subplots(1,2)\n",
    "fig.set_size_inches(14,6)\n",
    "x = np.arange(1, 10, 1)\n",
    "prob_dens = stats.pareto.pdf(x, alpha)\n",
    "prob = stats.pareto.cdf(x, alpha)\n",
    "ax[0].bar(x, prob_dens)\n",
    "ax[1].plot(x, prob)\n",
    "\n",
    "ax[0].set_title(u'Плотность распределения')\n",
    "ax[1].set_title(u'Функция распределения')"
   ]
  },
  {
   "cell_type": "markdown",
   "metadata": {},
   "source": [
    "## Генерация случайных величин"
   ]
  },
  {
   "cell_type": "markdown",
   "metadata": {},
   "source": [
    "Общий способ генерации случайных величин в соответствии с каким-либо законом: `stats.some_law.rvs(**params)`"
   ]
  },
  {
   "cell_type": "code",
   "execution_count": null,
   "metadata": {
    "collapsed": false
   },
   "outputs": [],
   "source": [
    "x = stats.norm.rvs(10, 3, size=10000)\n",
    "plt.hist(x)"
   ]
  },
  {
   "cell_type": "markdown",
   "metadata": {},
   "source": [
    "### Дополнительные характеристики распределений"
   ]
  },
  {
   "cell_type": "code",
   "execution_count": null,
   "metadata": {
    "collapsed": false
   },
   "outputs": [],
   "source": [
    "stats.kurtosis(x)"
   ]
  },
  {
   "cell_type": "markdown",
   "metadata": {},
   "source": [
    "Kutorsis (коэффициент эксцесса) - мера остроты распределения. Для нормального распределения $= 0$. Для относительно равномерных распределений $< 0$. Для распределений с резким пиком $> 0$"
   ]
  },
  {
   "cell_type": "code",
   "execution_count": null,
   "metadata": {
    "collapsed": false
   },
   "outputs": [],
   "source": [
    "stats.skew(x)"
   ]
  },
  {
   "cell_type": "markdown",
   "metadata": {},
   "source": [
    "Skew (коэффициент смещения) - смещение распределения, относительно среднего значения.<br/> Если смещено влево, то $< 0$, если смещено всправо - $> 0$ "
   ]
  },
  {
   "cell_type": "markdown",
   "metadata": {},
   "source": [
    "## Оценка параметров"
   ]
  },
  {
   "cell_type": "markdown",
   "metadata": {},
   "source": [
    "Общий способ оценки параметров распределений под данные: `stats.some_law.fit(x)`"
   ]
  },
  {
   "cell_type": "code",
   "execution_count": null,
   "metadata": {
    "collapsed": false
   },
   "outputs": [],
   "source": [
    "params = stats.norm.fit(x)\n",
    "params"
   ]
  },
  {
   "cell_type": "markdown",
   "metadata": {},
   "source": [
    "В метод fit зашита оценка методом **максимального правдоподобия**\n",
    "$$ \\max_\\theta f_X(X=x_1, X=x_2, \\dots, X=x_n | \\theta) = \\max_\\theta \\prod_{i=1}^n f_X(x_i|\\theta)$$"
   ]
  },
  {
   "cell_type": "markdown",
   "metadata": {},
   "source": [
    "Давайте попробуем решить какой-нибудь простой пример у доски.."
   ]
  },
  {
   "cell_type": "markdown",
   "metadata": {},
   "source": [
    "## Наивный байесовский классификатор и категоризация текстов"
   ]
  },
  {
   "cell_type": "markdown",
   "metadata": {},
   "source": [
    "Обучение методом наивного Байеса основывается на достаточно сильном предположении, что все признаки попарно независимы. По формуле Байеса $$P(y|x_1,\\dots,x_n)=\\frac{P(y)P(x_1,\\dots,x_n|y)}{P(x_1,\\dots,x_n)}.$$ В предположении, что признаки независимы получаем, что $$P(y|x_1,\\dots,x_n)=\\frac{P(y)\\prod_{i=1}^n P(x_i|y)}{P(x_1,\\dots,x_n)}$$\n",
    "\n",
    "Т.к. $$P(x_1,\\dots,x_n)$$ задается условиями задачи, принцип максимального правдоподобия для наивного Байеса запишется следующим образом: $$\\hat y = \\arg\\max_y P(y)\\prod_{i=1}^n P(x_i|y).$$"
   ]
  },
  {
   "cell_type": "code",
   "execution_count": null,
   "metadata": {
    "collapsed": true
   },
   "outputs": [],
   "source": [
    "from sklearn.datasets import fetch_20newsgroups\n",
    "from sklearn.naive_bayes import MultinomialNB\n",
    "from sklearn.feature_extraction.text import CountVectorizer"
   ]
  },
  {
   "cell_type": "code",
   "execution_count": null,
   "metadata": {
    "collapsed": true
   },
   "outputs": [],
   "source": []
  }
 ],
 "metadata": {
  "kernelspec": {
   "display_name": "Python 2",
   "language": "python",
   "name": "python2"
  },
  "language_info": {
   "codemirror_mode": {
    "name": "ipython",
    "version": 2
   },
   "file_extension": ".py",
   "mimetype": "text/x-python",
   "name": "python",
   "nbconvert_exporter": "python",
   "pygments_lexer": "ipython2",
   "version": "2.7.11"
  }
 },
 "nbformat": 4,
 "nbformat_minor": 0
}
